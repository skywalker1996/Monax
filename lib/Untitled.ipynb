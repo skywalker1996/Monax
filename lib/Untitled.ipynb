{
 "cells": [
  {
   "cell_type": "code",
   "execution_count": 14,
   "metadata": {},
   "outputs": [
    {
     "ename": "SyntaxError",
     "evalue": "invalid character in identifier (<ipython-input-14-a77bd94f3666>, line 7)",
     "output_type": "error",
     "traceback": [
      "\u001b[0;36m  File \u001b[0;32m\"<ipython-input-14-a77bd94f3666>\"\u001b[0;36m, line \u001b[0;32m7\u001b[0m\n\u001b[0;31m    return a\u001b[0m\n\u001b[0m           ^\u001b[0m\n\u001b[0;31mSyntaxError\u001b[0m\u001b[0;31m:\u001b[0m invalid character in identifier\n"
     ]
    }
   ],
   "source": [
    "import math\n",
    "\n",
    "def utility():\n",
    "#     weights=[0.9,-0.9,-0.01,-4]\n",
    "    a = 1\n",
    "#     raw_output=math.pow(vector[0],weights[0])+weights[1]*vector[0]*vector[1]+weights[2]*vector[2]*vector[0]+weights[3]*vector[3]*vector[0]\n",
    "    return a"
   ]
  },
  {
   "cell_type": "code",
   "execution_count": 17,
   "metadata": {},
   "outputs": [],
   "source": [
    "def utility():\n",
    "    weights=[0.9,-0.9,-0.01,-4]\n",
    "    raw_output=math.pow(vector[0],weights[0])+weights[1]*vector[0]*vector[1]+weights[2]*vector[2]*vector[0]+weights[3]*vector[3]*vector[0]\n",
    "    return raw_output"
   ]
  },
  {
   "cell_type": "code",
   "execution_count": 26,
   "metadata": {},
   "outputs": [
    {
     "ename": "SyntaxError",
     "evalue": "invalid character in identifier (<ipython-input-26-0a438b65e006>, line 4)",
     "output_type": "error",
     "traceback": [
      "\u001b[0;36m  File \u001b[0;32m\"<ipython-input-26-0a438b65e006>\"\u001b[0;36m, line \u001b[0;32m4\u001b[0m\n\u001b[0;31m    elif self.current_network_delay>70 and self.sending_bandwidth<1:\u001b[0m\n\u001b[0m            ^\u001b[0m\n\u001b[0;31mSyntaxError\u001b[0m\u001b[0;31m:\u001b[0m invalid character in identifier\n"
     ]
    }
   ],
   "source": [
    "def hello():\n",
    "    if self.current_network_delay>70 and self.sending_bandwidth>1:\n",
    "        self.sending_bandwidth=1\n",
    "    elif self.current_network_delay>70 and self.sending_bandwidth<1:\n",
    "        print(\"stable\")\n",
    "    elif (res<0.48 or self.sending_bandwidth>50 or (self.current_network_delay>50 and self.network_delay_record[-3]<self.network_delay_record[-2]<self.network_delay_record[-1])) and self.sending_bandwidth>1:\n",
    "        #print(289,self.sending_bandwidth)\n",
    "        self.sending_bandwidth-=0.2\n",
    "    else:\n",
    "        self.sending_bandwidth+=0.1\n",
    "        \n",
    "        self.network_delay_record[]"
   ]
  },
  {
   "cell_type": "code",
   "execution_count": 38,
   "metadata": {},
   "outputs": [],
   "source": [
    "def ratecontrol(self, res):\n",
    "    if(self.current_network_delay>70 and self.sending_bandwidth>1):\n",
    "        self.sending_bandwidth = 1\n",
    "    elif(self.current_network_delay>70 and self.sending_bandwidth<1):\n",
    "        print('stable')\n",
    "#     elif(res<0.48 or self.sending_bandwidth>50 or (self.current_network_delay>50 and self.network_delay_record[-3]<self.network_delay_record[-2]<self.network_delay_record[-1])) and self.sending_bandwidth>1):\n",
    "    elif(res<0.48 or self.sending_bandwidth>50 or (self.current_network_delay>50 and self.network_delay_record[-3]<self.network_delay_record[-2]<self.network_delay_record[-1]) and self.sending_bandwidth>1):\n",
    "        self.sending_bandwidth-=0.2\n",
    "    else:\n",
    "        self.sending_bandwidth+=0.1\n",
    "    return self.sending_bandwidth\n",
    "        "
   ]
  },
  {
   "cell_type": "code",
   "execution_count": 40,
   "metadata": {},
   "outputs": [
    {
     "ename": "SyntaxError",
     "evalue": "invalid character in identifier (<ipython-input-40-e23f014388ed>, line 2)",
     "output_type": "error",
     "traceback": [
      "\u001b[0;36m  File \u001b[0;32m\"<ipython-input-40-e23f014388ed>\"\u001b[0;36m, line \u001b[0;32m2\u001b[0m\n\u001b[0;31m    return matrix[-1]-matrix[-2]\u001b[0m\n\u001b[0m                ^\u001b[0m\n\u001b[0;31mSyntaxError\u001b[0m\u001b[0;31m:\u001b[0m invalid character in identifier\n"
     ]
    }
   ],
   "source": [
    "def gradient(self, matrix):\n",
    "    return matrix[-1]-matrix[-2]"
   ]
  },
  {
   "cell_type": "code",
   "execution_count": 41,
   "metadata": {},
   "outputs": [],
   "source": [
    "def gradient(self, matrix):\n",
    "    return matrix[-1]-matrix[-2]\n",
    "    "
   ]
  },
  {
   "cell_type": "code",
   "execution_count": 53,
   "metadata": {},
   "outputs": [],
   "source": [
    "import torch\n",
    "\n",
    "conv1d_1 = torch.nn.Conv1d(1,100,2)\n",
    "conv1d_2 = torch.nn.Conv1d(100,1,2)\n",
    "linear = torch.nn.Linear(8,1)\n",
    "x = torch.randn(1,1,10)\n",
    "\n",
    "y = conv1d_1(x)\n",
    "y = conv1d_2(y)\n",
    "y = y.resize(-1,)"
   ]
  },
  {
   "cell_type": "code",
   "execution_count": 52,
   "metadata": {},
   "outputs": [
    {
     "data": {
      "text/plain": [
       "torch.Size([1, 1, 8])"
      ]
     },
     "execution_count": 52,
     "metadata": {},
     "output_type": "execute_result"
    }
   ],
   "source": [
    "y.size()"
   ]
  },
  {
   "cell_type": "code",
   "execution_count": null,
   "metadata": {},
   "outputs": [],
   "source": [
    "class LSTMNet(BasicModule):\n",
    "    def __init__(self, name, history_len=10, forecast_len=1):\n",
    "        super(LSTMNet, self).__init__()\n",
    "        self.name = name\n",
    "        self.seq_len = history_len\n",
    "        self.forecast_len = forecast_len\n",
    "        self.conv_reg = nn.Conv1d(1, 16, num_layers=1, batch_first=True)\n",
    "#         self.LSTM_cla = nn.LSTM(input_size=1, hidden_size=16, num_layers=1, batch_first=True)\n",
    "        self.linear_reg_1 = nn.Linear(16*self.seq_len,10)\n",
    "        self.linear_reg_2 = nn.Linear(10,self.forecast_len)\n",
    "#         self.linear_cla_1 = nn.Linear(16*self.seq_len,10)\n",
    "#         self.linear_cla_2 = nn.Linear(10,2)\n",
    "    def forward(self, x):\n",
    "        # out = (batch, seq_len, num_directions * hidden_size)\n",
    "        # hidden = (hn, cn)，维度同上\n",
    "        x, hidden = self.LSTM_reg(x)\n",
    "        x = x.reshape(-1, 16*self.seq_len)\n",
    "        x_reg = self.linear_reg_1(x)\n",
    "        x_reg = self.linear_reg_2(x_reg)\n",
    "#         x_cla = self.linear_cla_1(x)\n",
    "#         x_cla = self.linear_cla_2(x_cla)\n",
    "#         x_cla = F.softmax(x_cla, dim=1)\n",
    "#         return (x_reg, x_cla)\n",
    "        return x_reg"
   ]
  },
  {
   "cell_type": "code",
   "execution_count": 57,
   "metadata": {},
   "outputs": [
    {
     "data": {
      "text/plain": [
       "[1, 2]"
      ]
     },
     "execution_count": 57,
     "metadata": {},
     "output_type": "execute_result"
    }
   ],
   "source": [
    "a = [1,2,3]\n",
    "a[-3:-1]"
   ]
  },
  {
   "cell_type": "code",
   "execution_count": 58,
   "metadata": {},
   "outputs": [],
   "source": [
    "import random"
   ]
  },
  {
   "cell_type": "code",
   "execution_count": 64,
   "metadata": {},
   "outputs": [
    {
     "data": {
      "text/plain": [
       "0.7659155480067816"
      ]
     },
     "execution_count": 64,
     "metadata": {},
     "output_type": "execute_result"
    }
   ],
   "source": [
    "random.random()"
   ]
  },
  {
   "cell_type": "code",
   "execution_count": 7,
   "metadata": {},
   "outputs": [
    {
     "data": {
      "text/plain": [
       "'110000110011'"
      ]
     },
     "execution_count": 7,
     "metadata": {},
     "output_type": "execute_result"
    }
   ],
   "source": [
    "bin(3123)[2:].zfill(8)"
   ]
  },
  {
   "cell_type": "code",
   "execution_count": 11,
   "metadata": {},
   "outputs": [
    {
     "data": {
      "text/plain": [
       "3"
      ]
     },
     "execution_count": 11,
     "metadata": {},
     "output_type": "execute_result"
    }
   ],
   "source": [
    "int('11',2)"
   ]
  },
  {
   "cell_type": "code",
   "execution_count": 16,
   "metadata": {},
   "outputs": [],
   "source": [
    "def Exp_Columb_Encoder(data):\n",
    "    binary_data=bin(data)[2:].zfill(8)\n",
    "    count=0\n",
    "    this_data_left=0\n",
    "    data_split = []\n",
    "    while (this_data_left+count<len(binary_data)):\n",
    "        if (binary_data[this_data_left+count]=='0'):\n",
    "            count+=1\n",
    "        else:\n",
    "            element=binary_data[this_data_left+count+1:min(len(binary_data),this_data_left+count*2+1)]\n",
    "            element_in_ten=int(element,2)+2**count-1 if element!='' else 2**count-1\n",
    "            data_split.append(element_in_ten) #this_data_length=2*count+1\n",
    "            this_data_left+=count*2+1\n",
    "            count=0\n",
    "    return data_split\n",
    "            \n"
   ]
  },
  {
   "cell_type": "code",
   "execution_count": 17,
   "metadata": {},
   "outputs": [],
   "source": [
    "code = 0x9472\n"
   ]
  },
  {
   "cell_type": "code",
   "execution_count": 18,
   "metadata": {},
   "outputs": [
    {
     "data": {
      "text/plain": [
       "[0, 4, 13, 1]"
      ]
     },
     "execution_count": 18,
     "metadata": {},
     "output_type": "execute_result"
    }
   ],
   "source": [
    "Exp_Columb_Encoder(code)"
   ]
  },
  {
   "cell_type": "code",
   "execution_count": 1,
   "metadata": {},
   "outputs": [
    {
     "name": "stdout",
     "output_type": "stream",
     "text": [
      "packet size = 1316 | frame id = 0 | priority = 0\n",
      "packet size = 1316 | frame id = 0 | priority = 0\n",
      "packet size = 1316 | frame id = 0 | priority = 0\n",
      "packet size = 1316 | frame id = 0 | priority = 0\n",
      "packet size = 1316 | frame id = 0 | priority = 0\n",
      "packet size = 1316 | frame id = 0 | priority = 0\n",
      "packet size = 1316 | frame id = 0 | priority = 0\n",
      "packet size = 1316 | frame id = 0 | priority = 0\n",
      "packet size = 1316 | frame id = 0 | priority = 0\n",
      "packet size = 1316 | frame id = 0 | priority = 0\n",
      "packet size = 1316 | frame id = 0 | priority = 0\n",
      "packet size = 1316 | frame id = 0 | priority = 0\n",
      "packet size = 1316 | frame id = 0 | priority = 0\n",
      "packet size = 1316 | frame id = 0 | priority = 0\n",
      "packet size = 1316 | frame id = 0 | priority = 0\n",
      "packet size = 1316 | frame id = 0 | priority = 0\n",
      "packet size = 1316 | frame id = 0 | priority = 0\n",
      "packet size = 1316 | frame id = 0 | priority = 0\n",
      "packet size = 1316 | frame id = 0 | priority = 0\n",
      "packet size = 1316 | frame id = 0 | priority = 0\n"
     ]
    }
   ],
   "source": [
    "from H264_Stream import H264_Stream\n",
    "from multiprocessing import Manager,Process, Queue\n",
    "\n",
    "stream = H264_Stream(\"../videos/dance2_h264\")\n",
    "send_buffer = Queue()\n",
    "\n",
    "\n",
    "for i in range(20):\n",
    "    res = stream.getNextPacket()\n",
    "    \n",
    "    (data, frame_id, priority) = res\n",
    "\n",
    "    print(\"packet size = \" + str(len(data)) + \" | \" + \"frame id = \" + str(frame_id) + \" | \" + \"priority = \" + str(priority))\n",
    "    try:\n",
    "        send_buffer.put_nowait((data, frame_id, priority, time.time()))\n",
    "        break\n",
    "    except:\n",
    "        continue\n"
   ]
  },
  {
   "cell_type": "code",
   "execution_count": null,
   "metadata": {},
   "outputs": [],
   "source": []
  }
 ],
 "metadata": {
  "kernelspec": {
   "display_name": "Python 3",
   "language": "python",
   "name": "python3"
  },
  "language_info": {
   "codemirror_mode": {
    "name": "ipython",
    "version": 3
   },
   "file_extension": ".py",
   "mimetype": "text/x-python",
   "name": "python",
   "nbconvert_exporter": "python",
   "pygments_lexer": "ipython3",
   "version": "3.6.9"
  }
 },
 "nbformat": 4,
 "nbformat_minor": 4
}
