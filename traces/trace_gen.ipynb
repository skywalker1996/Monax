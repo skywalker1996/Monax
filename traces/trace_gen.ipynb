{
 "cells": [
  {
   "cell_type": "code",
   "execution_count": 11,
   "metadata": {},
   "outputs": [
    {
     "name": "stdout",
     "output_type": "stream",
     "text": [
      "生成成功！\n"
     ]
    }
   ],
   "source": [
    "import random\n",
    "\n",
    "### 输入：input_file:输入带宽文件路径\n",
    "###       output_file:输出mahimahi trace路径\n",
    "###      interval: 带宽文件的采样间隔，单位为 秒\n",
    "\n",
    "def trace_gen(input_file, output_file, interval):\n",
    "    PACKET_SIZE = 1500.0  # bytes\n",
    "    BITS_IN_BYTE = 8.0\n",
    "    MBITS_IN_BITS = 1024**2\n",
    "    MILLISECONDS_IN_SECONDS = 1000.0\n",
    "\n",
    "    band_list = []\n",
    "    with open(input_file,'r') as f:\n",
    "        band = f.readline()\n",
    "        while(band):\n",
    "            band_list.append(float(band.replace('\\n', '').strip()))\n",
    "            band = f.readline()\n",
    "    mahimahi_trace = []\n",
    "    \n",
    "    ## 每个带宽值持续的period(ms)\n",
    "    period_len = int(MILLISECONDS_IN_SECONDS * interval)\n",
    "    period_start = 0\n",
    "    for band in band_list:\n",
    "        bitsPerPeriod = int(band*interval*(10**6))\n",
    "        bytesPerPeriod = int(bitsPerPeriod/8)\n",
    "        packetsPerPeriod = int(round(bytesPerPeriod/PACKET_SIZE))\n",
    "        mahimahi_trace+=(sorted([random.randint(period_start,period_start+period_len-1) for _ in range(packetsPerPeriod)]))\n",
    "        period_start+=period_len\n",
    "        \n",
    "    \n",
    "    with open(output_file, \"w+\") as f:\n",
    "        for d in mahimahi_trace:\n",
    "            f.write(str(d)+'\\n')\n",
    "            \n",
    "    print('生成成功！')\n",
    "            \n",
    "\n",
    "trace_gen('cycle_24m_12m.txt', './cycle_trace/cycle_24m_12m.log', 1)\n",
    "        "
   ]
  },
  {
   "cell_type": "code",
   "execution_count": 92,
   "metadata": {},
   "outputs": [
    {
     "name": "stdout",
     "output_type": "stream",
     "text": [
      "生成成功！\n"
     ]
    }
   ],
   "source": [
    "%run trace_gen.py"
   ]
  },
  {
   "cell_type": "code",
   "execution_count": null,
   "metadata": {},
   "outputs": [],
   "source": []
  },
  {
   "cell_type": "code",
   "execution_count": null,
   "metadata": {},
   "outputs": [],
   "source": []
  },
  {
   "cell_type": "code",
   "execution_count": 90,
   "metadata": {},
   "outputs": [
    {
     "data": {
      "text/plain": [
       "[1, 2, 3, 4, 5, 6, 7, 8, 9, 10]"
      ]
     },
     "execution_count": 90,
     "metadata": {},
     "output_type": "execute_result"
    }
   ],
   "source": [
    "a"
   ]
  },
  {
   "cell_type": "code",
   "execution_count": 5,
   "metadata": {},
   "outputs": [],
   "source": [
    "import numpy as np\n",
    "import matplotlib.pyplot as plt\n",
    "import os\n",
    "\n",
    "def getTrace(path, interval):\n",
    "\tPACKET_SIZE = 1500.0  # bytes\n",
    "\tBITS_IN_BYTE = 8.0\n",
    "\tMBITS_IN_BITS = 1024**2\n",
    "\tMILLISECONDS_IN_SECONDS = 1000.0 \n",
    "\tN = 100\n",
    "\ttime_all = []\n",
    "\tpacket_sent_all = []\n",
    "\tlast_time_stamp = 0\n",
    "\tpacket_sent = 0\n",
    "\twith open(path, 'rb') as f:\n",
    "\t\tfor line in f:\n",
    "\t\t\tif(len(line.split())==0):\n",
    "\t\t\t\tcontinue\n",
    "\t\t\ttime_stamp = int(line.split()[0])\n",
    "\t\t\tif time_stamp == last_time_stamp:\n",
    "\t\t\t\tpacket_sent += 1\n",
    "\t\t\t\tcontinue\n",
    "\t\t\telse:\n",
    "\t\t\t\ttime_all.append(last_time_stamp)\n",
    "\t\t\t\tpacket_sent_all.append(packet_sent)\n",
    "\t\t\t\tpacket_sent = 1\n",
    "\t\t\t\tlast_time_stamp = time_stamp\n",
    "\n",
    "\t\ttraces = []\n",
    "\t\tstart_time = 0   # seconds\n",
    "\t\tcount = 0\n",
    "\t\tpkt_sum = 0\n",
    "\t\tepoch_start_ts = time_all[0]\n",
    "\t\tfor i in range(len(time_all)):\n",
    "\t\t\tif(time_all[i]>=start_time*MILLISECONDS_IN_SECONDS and time_all[i]<=(start_time+interval)*MILLISECONDS_IN_SECONDS):\n",
    "\t\t\t\tpkt_sum += packet_sent_all[i]\n",
    "\t\t\telse:\n",
    "\t\t\t\tstart_time+=interval\n",
    "\n",
    "\t\t\t\tthroughputInSec = ((PACKET_SIZE * BITS_IN_BYTE * pkt_sum) / (time_all[i]-epoch_start_ts))*MILLISECONDS_IN_SECONDS / MBITS_IN_BITS\n",
    "\t\t\t\ttraces.append(throughputInSec)\n",
    "\t\t\t\tepoch_start_ts = time_all[i]\n",
    "\t\t\t\tpkt_sum = 0\n",
    "\n",
    "\treturn traces\n"
   ]
  },
  {
   "cell_type": "code",
   "execution_count": 7,
   "metadata": {},
   "outputs": [
    {
     "data": {
      "text/plain": [
       "[11.455524456012737,\n",
       " 22.853851318359375,\n",
       " 11.444091796875,\n",
       " 22.853851318359375,\n",
       " 11.455535888671875]"
      ]
     },
     "execution_count": 7,
     "metadata": {},
     "output_type": "execute_result"
    }
   ],
   "source": [
    "getTrace('./cycle_trace/cycle_24m_12m.log', 1)"
   ]
  },
  {
   "cell_type": "code",
   "execution_count": 8,
   "metadata": {},
   "outputs": [],
   "source": [
    "def getTrace(path):\n",
    "\tPACKET_SIZE = 1500.0  # bytes\n",
    "\tBITS_IN_BYTE = 8.0\n",
    "\tMBITS_IN_BITS = 1024**2\n",
    "\tMILLISECONDS_IN_SECONDS = 1000.0 \n",
    "\tN = 100\n",
    "\ttime_all = []\n",
    "\tpacket_sent_all = []\n",
    "\tlast_time_stamp = 0\n",
    "\tpacket_sent = 0\n",
    "\twith open(path, 'rb') as f:\n",
    "\t\tfor line in f:\n",
    "\t\t\tif(len(line.split())==0):\n",
    "\t\t\t\tcontinue\n",
    "\t\t\ttime_stamp = int(line.split()[0])\n",
    "\t\t\tif time_stamp == last_time_stamp:\n",
    "\t\t\t\tpacket_sent += 1\n",
    "\t\t\t\tcontinue\n",
    "\t\t\telse:\n",
    "\t\t\t\ttime_all.append(last_time_stamp)\n",
    "\t\t\t\tpacket_sent_all.append(packet_sent)\n",
    "\t\t\t\tpacket_sent = 1\n",
    "\t\t\t\tlast_time_stamp = time_stamp\n",
    "\n",
    "\t\ttraces = []\n",
    "\t\tstart_time = 0   # seconds\n",
    "\t\tcount = 0\n",
    "\t\tpkt_sum = 0\n",
    "\t\tepoch_start_ts = time_all[0]\n",
    "\t\tfor i in range(len(time_all)):\n",
    "\t\t\tif(time_all[i]>=start_time*MILLISECONDS_IN_SECONDS and time_all[i]<=(start_time+1)*MILLISECONDS_IN_SECONDS):\n",
    "\t\t\t\tpkt_sum += packet_sent_all[i]\n",
    "\t\t\telse:\n",
    "\t\t\t\tstart_time+=1\n",
    "\n",
    "\t\t\t\tthroughputInSec = ((PACKET_SIZE * BITS_IN_BYTE * pkt_sum) / (time_all[i]-epoch_start_ts))*MILLISECONDS_IN_SECONDS / MBITS_IN_BITS\n",
    "\t\t\t\ttraces.append(throughputInSec)\n",
    "\t\t\t\tepoch_start_ts = time_all[i]\n",
    "\t\t\t\tpkt_sum = 0\n",
    "\n",
    "\treturn traces\n"
   ]
  },
  {
   "cell_type": "code",
   "execution_count": 9,
   "metadata": {},
   "outputs": [
    {
     "data": {
      "text/plain": [
       "[11.455524456012737,\n",
       " 22.853851318359375,\n",
       " 11.444091796875,\n",
       " 22.853851318359375,\n",
       " 11.455535888671875]"
      ]
     },
     "execution_count": 9,
     "metadata": {},
     "output_type": "execute_result"
    }
   ],
   "source": [
    "getTrace('./cycle_trace/cycle_24m_12m.log')"
   ]
  },
  {
   "cell_type": "code",
   "execution_count": 12,
   "metadata": {},
   "outputs": [],
   "source": [
    "%run band_from_mahimahi_s.py"
   ]
  },
  {
   "cell_type": "code",
   "execution_count": null,
   "metadata": {},
   "outputs": [],
   "source": []
  }
 ],
 "metadata": {
  "kernelspec": {
   "display_name": "Python 3 (ipykernel)",
   "language": "python",
   "name": "python3"
  },
  "language_info": {
   "codemirror_mode": {
    "name": "ipython",
    "version": 3
   },
   "file_extension": ".py",
   "mimetype": "text/x-python",
   "name": "python",
   "nbconvert_exporter": "python",
   "pygments_lexer": "ipython3",
   "version": "3.8.10"
  }
 },
 "nbformat": 4,
 "nbformat_minor": 4
}
