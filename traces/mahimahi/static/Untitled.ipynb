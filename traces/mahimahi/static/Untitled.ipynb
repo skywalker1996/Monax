{
 "cells": [
  {
   "cell_type": "code",
   "execution_count": 7,
   "metadata": {},
   "outputs": [],
   "source": [
    "Bandwidth = 10 \n",
    "packet_size = 1316\n",
    "\n",
    "pac_seq = []\n",
    "\n",
    "packet_per_second = int(Bandwidth*(10**6)/8/1316)\n",
    "\n",
    "cost_per_packet = int(1000/packet_per_second)\n",
    "\n",
    "timestamp = 0\n",
    "f = open('./trace_static.txt', 'w+')\n",
    "\n",
    "for i in range(10000):\n",
    "    f.write(str(timestamp)+'\\n')\n",
    "    timestamp+=cost_per_packet\n",
    "    \n",
    "f.close()\n",
    "\n"
   ]
  },
  {
   "cell_type": "code",
   "execution_count": null,
   "metadata": {},
   "outputs": [],
   "source": []
  }
 ],
 "metadata": {
  "kernelspec": {
   "display_name": "Python 3",
   "language": "python",
   "name": "python3"
  },
  "language_info": {
   "codemirror_mode": {
    "name": "ipython",
    "version": 3
   },
   "file_extension": ".py",
   "mimetype": "text/x-python",
   "name": "python",
   "nbconvert_exporter": "python",
   "pygments_lexer": "ipython3",
   "version": "3.7.5"
  }
 },
 "nbformat": 4,
 "nbformat_minor": 4
}
