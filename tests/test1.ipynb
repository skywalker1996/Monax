{
 "cells": [
  {
   "cell_type": "code",
   "execution_count": 13,
   "metadata": {},
   "outputs": [
    {
     "name": "stdout",
     "output_type": "stream",
     "text": [
      "process 2 sleep time = 1.090576171875process 1 sleep time = 1.07763671875\n",
      "\n",
      "process 1 sleep time = 1.304443359375\n",
      "process 2 sleep time = 1.115234375process 2 sleep time = 1.07861328125\n",
      "\n",
      "process 1 sleep time = 1.092529296875process 2 sleep time = 1.06982421875\n",
      "\n",
      "process 1 sleep time = 1.068603515625process 2 sleep time = 1.072509765625\n",
      "\n",
      "process 1 sleep time = 1.074951171875process 2 sleep time = 1.081298828125\n",
      "\n",
      "process 1 sleep time = 1.067138671875process 2 sleep time = 2.208251953125\n",
      "\n",
      "process 2 sleep time = 1.075439453125process 1 sleep time = 1.078857421875\n",
      "\n",
      "process 1 sleep time = 1.065185546875process 2 sleep time = 1.087158203125\n",
      "\n",
      "process 1 sleep time = 1.076171875process 2 sleep time = 1.075439453125\n",
      "\n",
      "process 1 sleep time = 1.068359375process 2 sleep time = 1.074462890625\n",
      "\n",
      "process 1 sleep time = 1.0703125process 2 sleep time = 1.063232421875\n",
      "\n",
      "process 1 sleep time = 1.074462890625process 2 sleep time = 1.074951171875\n",
      "\n",
      "process 1 sleep time = 1.06689453125\n",
      "process 2 sleep time = 1.23876953125\n",
      "process 1 sleep time = 1.074951171875process 2 sleep time = 1.080810546875\n",
      "\n",
      "process 1 sleep time = 1.070556640625\n",
      "process 2 sleep time = 1.497802734375\n",
      "process 1 sleep time = 1.07275390625\n",
      "process 2 sleep time = 1.079345703125\n",
      "process 1 sleep time = 1.076904296875\n",
      "process 2 sleep time = 1.071044921875\n",
      "process 1 sleep time = 1.074462890625\n",
      "process 2 sleep time = 1.073486328125\n",
      "process 1 sleep time = 1.078857421875\n",
      "process 2 sleep time = 1.07177734375\n",
      "process 1 sleep time = 1.074951171875\n"
     ]
    }
   ],
   "source": [
    "import multiprocessing\n",
    "import time\n",
    "def drink():\n",
    "    i = 0\n",
    "    while(True):\n",
    "        time_start = time.time()*1000\n",
    "        time.sleep(0.001)\n",
    "        print(f\"process 1 sleep time = {time.time()*1000 - time_start}\")\n",
    "        i += 1\n",
    "        if i>=20:\n",
    "            break\n",
    "        \n",
    "def eat():\n",
    "    for i in range(20):\n",
    "        time_start = time.time()*1000\n",
    "        time.sleep(0.001)\n",
    "        print(f\"process 2 sleep time = {time.time()*1000 - time_start}\")\n",
    "        \n",
    "if __name__ == '__main__':\n",
    "    #target:指定函数名\n",
    "    drink_process = multiprocessing.Process(target=drink)\n",
    "    eat_process = multiprocessing.Process(target=eat)\n",
    " \n",
    "    drink_process.start()\n",
    "    eat_process.start()"
   ]
  },
  {
   "cell_type": "code",
   "execution_count": 8,
   "metadata": {},
   "outputs": [
    {
     "name": "stdout",
     "output_type": "stream",
     "text": [
      "thread 1 sleep time = 1.18408203125\n",
      "thread 2 sleep time = 1.298828125\n",
      "thread 1 sleep time = 1.103271484375\n",
      "thread 2 sleep time = 1.067626953125\n",
      "thread 1 sleep time = 1.27734375thread 2 sleep time = 1.205810546875\n",
      "\n",
      "thread 2 sleep time = 1.12646484375\n",
      "thread 1 sleep time = 1.308349609375\n",
      "thread 2 sleep time = 1.0869140625\n",
      "thread 1 sleep time = 1.0947265625\n",
      "thread 2 sleep time = 1.065185546875\n",
      "thread 1 sleep time = 1.064208984375\n",
      "thread 2 sleep time = 1.064697265625\n",
      "thread 1 sleep time = 1.0712890625\n",
      "thread 2 sleep time = 1.06396484375\n",
      "thread 1 sleep time = 1.064453125\n",
      "thread 2 sleep time = 1.064208984375\n",
      "thread 1 sleep time = 1.06494140625\n",
      "thread 2 sleep time = 1.0673828125\n",
      "thread 1 sleep time = 1.06494140625\n",
      "thread 2 sleep time = 1.067138671875\n",
      "thread 1 sleep time = 1.068359375\n",
      "thread 2 sleep time = 1.065185546875\n",
      "thread 1 sleep time = 1.06640625\n",
      "thread 2 sleep time = 1.06591796875\n",
      "thread 1 sleep time = 1.0654296875\n",
      "thread 2 sleep time = 1.067138671875\n",
      "thread 1 sleep time = 1.06640625\n",
      "thread 2 sleep time = 1.06396484375\n",
      "thread 1 sleep time = 1.06396484375\n",
      "thread 2 sleep time = 1.06396484375\n",
      "thread 1 sleep time = 1.064208984375\n",
      "thread 2 sleep time = 1.068603515625\n",
      "thread 1 sleep time = 1.067138671875\n",
      "thread 2 sleep time = 1.066162109375\n",
      "thread 1 sleep time = 1.06787109375\n",
      "thread 2 sleep time = 1.06591796875\n",
      "thread 1 sleep time = 1.068603515625\n",
      "thread 2 sleep time = 1.064697265625\n",
      "thread 1 sleep time = 1.229736328125\n"
     ]
    }
   ],
   "source": [
    "from threading import Lock, Thread\n",
    "import time\n",
    "def drink():\n",
    "    for i in range(20):\n",
    "        time_start = time.time()*1000\n",
    "        time.sleep(0.001)\n",
    "        print(f\"thread 1 sleep time = {time.time()*1000 - time_start}\")\n",
    "        \n",
    "def eat():\n",
    "    for i in range(20):\n",
    "        time_start = time.time()*1000\n",
    "        time.sleep(0.001)\n",
    "        print(f\"thread 2 sleep time = {time.time()*1000 - time_start}\")\n",
    "        \n",
    "if __name__ == '__main__':\n",
    "    #target:指定函数名\n",
    "    drink_thread = Thread(target=drink)\n",
    "    eat_thread = Thread(target=eat)\n",
    " \n",
    "    drink_thread.start()\n",
    "    eat_thread.start()"
   ]
  },
  {
   "cell_type": "code",
   "execution_count": 11,
   "metadata": {},
   "outputs": [
    {
     "ename": "SyntaxError",
     "evalue": "invalid syntax (608064002.py, line 5)",
     "output_type": "error",
     "traceback": [
      "\u001b[0;36m  File \u001b[0;32m\"/tmp/ipykernel_2148593/608064002.py\"\u001b[0;36m, line \u001b[0;32m5\u001b[0m\n\u001b[0;31m    from ../motor import Motor\u001b[0m\n\u001b[0m           ^\u001b[0m\n\u001b[0;31mSyntaxError\u001b[0m\u001b[0;31m:\u001b[0m invalid syntax\n"
     ]
    }
   ],
   "source": [
    "import sys\n",
    "\n",
    "from simplejson import JSONDecodeError\n",
    "\n",
    "from motor import Motor\n",
    "import time\n",
    "from simple_pid import PID\n",
    "from utils.utils import *\n"
   ]
  },
  {
   "cell_type": "code",
   "execution_count": null,
   "metadata": {},
   "outputs": [],
   "source": []
  },
  {
   "cell_type": "code",
   "execution_count": null,
   "metadata": {},
   "outputs": [],
   "source": []
  },
  {
   "cell_type": "code",
   "execution_count": null,
   "metadata": {},
   "outputs": [],
   "source": []
  },
  {
   "cell_type": "code",
   "execution_count": null,
   "metadata": {},
   "outputs": [],
   "source": []
  },
  {
   "cell_type": "code",
   "execution_count": null,
   "metadata": {},
   "outputs": [],
   "source": []
  },
  {
   "cell_type": "code",
   "execution_count": null,
   "metadata": {},
   "outputs": [],
   "source": []
  },
  {
   "cell_type": "code",
   "execution_count": null,
   "metadata": {},
   "outputs": [],
   "source": []
  }
 ],
 "metadata": {
  "kernelspec": {
   "display_name": "Python 3 (ipykernel)",
   "language": "python",
   "name": "python3"
  },
  "language_info": {
   "codemirror_mode": {
    "name": "ipython",
    "version": 3
   },
   "file_extension": ".py",
   "mimetype": "text/x-python",
   "name": "python",
   "nbconvert_exporter": "python",
   "pygments_lexer": "ipython3",
   "version": "3.8.10"
  }
 },
 "nbformat": 4,
 "nbformat_minor": 4
}
