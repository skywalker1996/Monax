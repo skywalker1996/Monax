{
 "cells": [
  {
   "cell_type": "code",
   "execution_count": 11,
   "metadata": {},
   "outputs": [],
   "source": [
    "import socket\n",
    "server_sock = socket.socket(socket.AF_INET, socket.SOCK_STREAM)\n",
    "server_sock.setsockopt(socket.SOL_SOCKET, socket.SO_REUSEADDR, 1)\n",
    "server_sock.setsockopt(socket.IPPROTO_TCP, socket.TCP_NODELAY, True)\n",
    "server_sock.connect((\"172.26.254.98\", 10001))\n",
    "\n",
    "msg = \"1\"*1400\n",
    "for i in range(10):\n",
    "    server_sock.send(msg.encode())\n",
    "    \n"
   ]
  },
  {
   "cell_type": "code",
   "execution_count": 12,
   "metadata": {},
   "outputs": [
    {
     "data": {
      "text/plain": [
       "b'd@\\x00\\x02'"
      ]
     },
     "execution_count": 12,
     "metadata": {},
     "output_type": "execute_result"
    }
   ],
   "source": [
    "import ipaddress\n",
    "\n",
    "ipaddress.ip_address(\"100.64.0.2\").packed"
   ]
  },
  {
   "cell_type": "code",
   "execution_count": 25,
   "metadata": {},
   "outputs": [],
   "source": [
    "start_code = '{'\n",
    "data = b''\n",
    "data += start_code.encode()\n",
    "data += \"{helloworld\".encode()"
   ]
  },
  {
   "cell_type": "code",
   "execution_count": 28,
   "metadata": {},
   "outputs": [
    {
     "data": {
      "text/plain": [
       "b'{'"
      ]
     },
     "execution_count": 28,
     "metadata": {},
     "output_type": "execute_result"
    }
   ],
   "source": [
    "data[1:2]"
   ]
  },
  {
   "cell_type": "code",
   "execution_count": 33,
   "metadata": {},
   "outputs": [
    {
     "data": {
      "text/plain": [
       "123"
      ]
     },
     "execution_count": 33,
     "metadata": {},
     "output_type": "execute_result"
    }
   ],
   "source": [
    "'{'.encode()[0]"
   ]
  },
  {
   "cell_type": "code",
   "execution_count": 37,
   "metadata": {},
   "outputs": [
    {
     "data": {
      "text/plain": [
       "'{'"
      ]
     },
     "execution_count": 37,
     "metadata": {},
     "output_type": "execute_result"
    }
   ],
   "source": [
    "a = [123]\n",
    "bytes(a).decode()"
   ]
  },
  {
   "cell_type": "code",
   "execution_count": 1,
   "metadata": {},
   "outputs": [],
   "source": [
    "a = [{\"INTERVIEW_DATE\":1618401746000,\"A001\":\"1\",\"WORK_PLACE_NAME\":\"中国/深圳\",\"WORK_PLACE\":\"Shenzhen\",\"A003\":\"1\",\"INTENTION_ID\":330726,\"RESUME_TYPE\":\"0\",\"OFFER_DATE\":1620954396000,\"JOB_REQUIREMENT_ID\":179840,\"INTEXSIST\":0,\"INTENTION_STATE\":\"1\",\"CHECK_IN_COUNT\":2,\"portalStatus7\":\"wanchengpaixu\",\"portalStatus\":\"wanchengpaixu\",\"INTERVIEW_TYPE\":0,\"graduateItem\":\"3\",\"A0012\":\"1\",\"IV_DATE\":\"2021-04-17\",\"A0011\":\"1\",\"EMPLOY_ID\":174367,\"INTERVIEWEE_ID\":950593,\"SEND_COUNT\":0,\"IV_EXISTS\":\"1\",\"CURRENT_DEPT\":\"047285/网络产品与解决方案/Network+Products+&+Solutions\",\"index\":2,\"IV_PROCESS\":1,\"SHOW_INTERVIEW\":\"0\",\"JOB_CODE\":\"J202103160117\",\"CREATION_DATE\":1618401743000,\"JOB_NAME\":\"助理工程师A,工程师B\",\"TNEXT\":\"0\",\"EXTERNAL_JOB_NAME\":\"软件开发工程师（实习生）\",\"SHOW_PROCESS\":\"0\",\"JOB_TYPE\":\"0\"}]\n"
   ]
  },
  {
   "cell_type": "code",
   "execution_count": 2,
   "metadata": {},
   "outputs": [
    {
     "data": {
      "text/plain": [
       "[{'INTERVIEW_DATE': 1618401746000,\n",
       "  'A001': '1',\n",
       "  'WORK_PLACE_NAME': '中国/深圳',\n",
       "  'WORK_PLACE': 'Shenzhen',\n",
       "  'A003': '1',\n",
       "  'INTENTION_ID': 330726,\n",
       "  'RESUME_TYPE': '0',\n",
       "  'OFFER_DATE': 1620954396000,\n",
       "  'JOB_REQUIREMENT_ID': 179840,\n",
       "  'INTEXSIST': 0,\n",
       "  'INTENTION_STATE': '1',\n",
       "  'CHECK_IN_COUNT': 2,\n",
       "  'portalStatus7': 'wanchengpaixu',\n",
       "  'portalStatus': 'wanchengpaixu',\n",
       "  'INTERVIEW_TYPE': 0,\n",
       "  'graduateItem': '3',\n",
       "  'A0012': '1',\n",
       "  'IV_DATE': '2021-04-17',\n",
       "  'A0011': '1',\n",
       "  'EMPLOY_ID': 174367,\n",
       "  'INTERVIEWEE_ID': 950593,\n",
       "  'SEND_COUNT': 0,\n",
       "  'IV_EXISTS': '1',\n",
       "  'CURRENT_DEPT': '047285/网络产品与解决方案/Network+Products+&+Solutions',\n",
       "  'index': 2,\n",
       "  'IV_PROCESS': 1,\n",
       "  'SHOW_INTERVIEW': '0',\n",
       "  'JOB_CODE': 'J202103160117',\n",
       "  'CREATION_DATE': 1618401743000,\n",
       "  'JOB_NAME': '助理工程师A,工程师B',\n",
       "  'TNEXT': '0',\n",
       "  'EXTERNAL_JOB_NAME': '软件开发工程师（实习生）',\n",
       "  'SHOW_PROCESS': '0',\n",
       "  'JOB_TYPE': '0'}]"
      ]
     },
     "execution_count": 2,
     "metadata": {},
     "output_type": "execute_result"
    }
   ],
   "source": [
    "a"
   ]
  },
  {
   "cell_type": "code",
   "execution_count": 3,
   "metadata": {},
   "outputs": [
    {
     "ename": "SyntaxError",
     "evalue": "invalid character in identifier (<ipython-input-3-25ac5aa8af80>, line 1)",
     "output_type": "error",
     "traceback": [
      "\u001b[0;36m  File \u001b[0;32m\"<ipython-input-3-25ac5aa8af80>\"\u001b[0;36m, line \u001b[0;32m1\u001b[0m\n\u001b[0;31m    b = [{“ INTERVIEW_DATE”：1619423626000，“ A001”：“ 1”，“ WORK_PLACE_NAME”：“中国/深圳”，“ WORK_PLACE”：“深圳”，“ A003”：“ 1”，“ INTENTION_ID”：330701，“ RESUME_TYPE “：” 0“，” OFFER_DATE“：1620954396000，” JOB_REQUIREMENT_ID“：179893，” INTEXSIST“：0：” INTENTION_STATE“：” 1“，” CHECK_IN_COUNT“：2，” portalStatus7“：” wanchengpaixu“，” portalStatus“： “ wanchengpaixu”，“ INTERVIEW_TYPE”：0，“ graduateItem”：“ 3”，“ A0012”：“ 1”，“ IV_DATE”：“ 2021-04-29”，“ A0011”：“ 1”，“ EMPLOY_ID”： 174342，“ INTERVIEWEE_ID”：957265，“ SEND_COUNT”：0，“ IV_EXISTS”：“ 1”，“CURRENT_DEPT“：” 047285 /网络产品与解决方案/ Network + Products +＆+解决方案“，”索引“：2，” IV_PROCESS“：1，” SHOW_INTERVIEW“：” 0“，” JOB_CODE“：” J202103160170“，” CREATION_DATE“：1619423610000，” JOB_NAME“：”助理工程师A，工程师B“，” TNEXT“：” 1“，” EXTERNAL_JOB_NAME“：”算法工程师（实习生）“，” SHOW_PROCESS“：” 0“，” JOB_TYPE“ ：“ 0”}]0“，” JOB_TYPE“：” 0“}]0“，” JOB_TYPE“：” 0“}]\u001b[0m\n\u001b[0m          ^\u001b[0m\n\u001b[0;31mSyntaxError\u001b[0m\u001b[0;31m:\u001b[0m invalid character in identifier\n"
     ]
    }
   ],
   "source": [
    "b = [{“ INTERVIEW_DATE”：1619423626000，“ A001”：“ 1”，“ WORK_PLACE_NAME”：“中国/深圳”，“ WORK_PLACE”：“深圳”，“ A003”：“ 1”，“ INTENTION_ID”：330701，“ RESUME_TYPE “：” 0“，” OFFER_DATE“：1620954396000，” JOB_REQUIREMENT_ID“：179893，” INTEXSIST“：0：” INTENTION_STATE“：” 1“，” CHECK_IN_COUNT“：2，” portalStatus7“：” wanchengpaixu“，” portalStatus“： “ wanchengpaixu”，“ INTERVIEW_TYPE”：0，“ graduateItem”：“ 3”，“ A0012”：“ 1”，“ IV_DATE”：“ 2021-04-29”，“ A0011”：“ 1”，“ EMPLOY_ID”： 174342，“ INTERVIEWEE_ID”：957265，“ SEND_COUNT”：0，“ IV_EXISTS”：“ 1”，“CURRENT_DEPT“：” 047285 /网络产品与解决方案/ Network + Products +＆+解决方案“，”索引“：2，” IV_PROCESS“：1，” SHOW_INTERVIEW“：” 0“，” JOB_CODE“：” J202103160170“，” CREATION_DATE“：1619423610000，” JOB_NAME“：”助理工程师A，工程师B“，” TNEXT“：” 1“，” EXTERNAL_JOB_NAME“：”算法工程师（实习生）“，” SHOW_PROCESS“：” 0“，” JOB_TYPE“ ：“ 0”}]0“，” JOB_TYPE“：” 0“}]0“，” JOB_TYPE“：” 0“}]"
   ]
  },
  {
   "cell_type": "code",
   "execution_count": null,
   "metadata": {},
   "outputs": [],
   "source": []
  }
 ],
 "metadata": {
  "kernelspec": {
   "display_name": "Python 3",
   "language": "python",
   "name": "python3"
  },
  "language_info": {
   "codemirror_mode": {
    "name": "ipython",
    "version": 3
   },
   "file_extension": ".py",
   "mimetype": "text/x-python",
   "name": "python",
   "nbconvert_exporter": "python",
   "pygments_lexer": "ipython3",
   "version": "3.6.9"
  }
 },
 "nbformat": 4,
 "nbformat_minor": 4
}
