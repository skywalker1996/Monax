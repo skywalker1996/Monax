{
 "cells": [
  {
   "cell_type": "code",
   "execution_count": 12,
   "metadata": {},
   "outputs": [
    {
     "name": "stdout",
     "output_type": "stream",
     "text": [
      "process 1 sleep time = 1.082275390625\n",
      "process 1 sleep time = 1.017578125\n",
      "process 2 sleep time = 1.0810546875\n",
      "process 1 sleep time = 1.0771484375\n",
      "process 2 sleep time = 1.072998046875\n",
      "process 1 sleep time = 1.073486328125\n",
      "process 2 sleep time = 1.084716796875\n",
      "process 1 sleep time = 1.08251953125\n",
      "process 2 sleep time = 1.070068359375\n",
      "process 1 sleep time = 1.078857421875process 2 sleep time = 1.081298828125\n",
      "\n",
      "process 1 sleep time = 1.02001953125\n",
      "process 2 sleep time = 1.075927734375\n",
      "process 1 sleep time = 1.0771484375process 2 sleep time = 1.0810546875\n",
      "\n",
      "process 1 sleep time = 1.086669921875process 2 sleep time = 1.07470703125\n",
      "\n",
      "process 1 sleep time = 1.069580078125\n",
      "process 2 sleep time = 1.067138671875\n",
      "process 1 sleep time = 1.0791015625process 2 sleep time = 1.070068359375\n",
      "\n",
      "process 1 sleep time = 1.069091796875process 2 sleep time = 1.077392578125\n",
      "\n",
      "process 2 sleep time = 1.0693359375process 1 sleep time = 1.085693359375\n",
      "\n",
      "process 2 sleep time = 1.07080078125process 1 sleep time = 1.077880859375\n",
      "\n",
      "process 2 sleep time = 1.088623046875process 1 sleep time = 1.069580078125\n",
      "\n",
      "process 2 sleep time = 1.07568359375\n",
      "process 1 sleep time = 1.082275390625\n",
      "process 2 sleep time = 1.084228515625\n",
      "process 1 sleep time = 1.07177734375\n",
      "process 2 sleep time = 1.08349609375\n",
      "process 1 sleep time = 1.082275390625\n",
      "process 2 sleep time = 1.073974609375process 1 sleep time = 2.495361328125\n",
      "\n",
      "process 2 sleep time = 1.089599609375\n",
      "process 2 sleep time = 1.0888671875\n",
      "process 1 sleep time = 1.0732421875\n"
     ]
    }
   ],
   "source": [
    "import multiprocessing\n",
    "import time\n",
    "def drink():\n",
    "    i = 0\n",
    "    while(True):\n",
    "        time_start = time.time()*1000\n",
    "        time.sleep(0.001)\n",
    "        print(f\"process 1 sleep time = {time.time()*1000 - time_start}\")\n",
    "        i += 1\n",
    "        if i>=20:\n",
    "            break\n",
    "        \n",
    "def eat():\n",
    "    for i in range(20):\n",
    "        time_start = time.time()*1000\n",
    "        time.sleep(0.001)\n",
    "        print(f\"process 2 sleep time = {time.time()*1000 - time_start}\")\n",
    "        \n",
    "if __name__ == '__main__':\n",
    "    #target:指定函数名\n",
    "    drink_process = multiprocessing.Process(target=drink)\n",
    "    eat_process = multiprocessing.Process(target=eat)\n",
    " \n",
    "    drink_process.start()\n",
    "    eat_process.start()"
   ]
  },
  {
   "cell_type": "code",
   "execution_count": 8,
   "metadata": {},
   "outputs": [
    {
     "name": "stdout",
     "output_type": "stream",
     "text": [
      "thread 1 sleep time = 1.18408203125\n",
      "thread 2 sleep time = 1.298828125\n",
      "thread 1 sleep time = 1.103271484375\n",
      "thread 2 sleep time = 1.067626953125\n",
      "thread 1 sleep time = 1.27734375thread 2 sleep time = 1.205810546875\n",
      "\n",
      "thread 2 sleep time = 1.12646484375\n",
      "thread 1 sleep time = 1.308349609375\n",
      "thread 2 sleep time = 1.0869140625\n",
      "thread 1 sleep time = 1.0947265625\n",
      "thread 2 sleep time = 1.065185546875\n",
      "thread 1 sleep time = 1.064208984375\n",
      "thread 2 sleep time = 1.064697265625\n",
      "thread 1 sleep time = 1.0712890625\n",
      "thread 2 sleep time = 1.06396484375\n",
      "thread 1 sleep time = 1.064453125\n",
      "thread 2 sleep time = 1.064208984375\n",
      "thread 1 sleep time = 1.06494140625\n",
      "thread 2 sleep time = 1.0673828125\n",
      "thread 1 sleep time = 1.06494140625\n",
      "thread 2 sleep time = 1.067138671875\n",
      "thread 1 sleep time = 1.068359375\n",
      "thread 2 sleep time = 1.065185546875\n",
      "thread 1 sleep time = 1.06640625\n",
      "thread 2 sleep time = 1.06591796875\n",
      "thread 1 sleep time = 1.0654296875\n",
      "thread 2 sleep time = 1.067138671875\n",
      "thread 1 sleep time = 1.06640625\n",
      "thread 2 sleep time = 1.06396484375\n",
      "thread 1 sleep time = 1.06396484375\n",
      "thread 2 sleep time = 1.06396484375\n",
      "thread 1 sleep time = 1.064208984375\n",
      "thread 2 sleep time = 1.068603515625\n",
      "thread 1 sleep time = 1.067138671875\n",
      "thread 2 sleep time = 1.066162109375\n",
      "thread 1 sleep time = 1.06787109375\n",
      "thread 2 sleep time = 1.06591796875\n",
      "thread 1 sleep time = 1.068603515625\n",
      "thread 2 sleep time = 1.064697265625\n",
      "thread 1 sleep time = 1.229736328125\n"
     ]
    }
   ],
   "source": [
    "from threading import Lock, Thread\n",
    "import time\n",
    "def drink():\n",
    "    for i in range(20):\n",
    "        time_start = time.time()*1000\n",
    "        time.sleep(0.001)\n",
    "        print(f\"thread 1 sleep time = {time.time()*1000 - time_start}\")\n",
    "        \n",
    "def eat():\n",
    "    for i in range(20):\n",
    "        time_start = time.time()*1000\n",
    "        time.sleep(0.001)\n",
    "        print(f\"thread 2 sleep time = {time.time()*1000 - time_start}\")\n",
    "        \n",
    "if __name__ == '__main__':\n",
    "    #target:指定函数名\n",
    "    drink_thread = Thread(target=drink)\n",
    "    eat_thread = Thread(target=eat)\n",
    " \n",
    "    drink_thread.start()\n",
    "    eat_thread.start()"
   ]
  },
  {
   "cell_type": "code",
   "execution_count": 11,
   "metadata": {},
   "outputs": [
    {
     "ename": "SyntaxError",
     "evalue": "invalid syntax (608064002.py, line 5)",
     "output_type": "error",
     "traceback": [
      "\u001b[0;36m  File \u001b[0;32m\"/tmp/ipykernel_2148593/608064002.py\"\u001b[0;36m, line \u001b[0;32m5\u001b[0m\n\u001b[0;31m    from ../motor import Motor\u001b[0m\n\u001b[0m           ^\u001b[0m\n\u001b[0;31mSyntaxError\u001b[0m\u001b[0;31m:\u001b[0m invalid syntax\n"
     ]
    }
   ],
   "source": [
    "import sys\n",
    "\n",
    "from simplejson import JSONDecodeError\n",
    "\n",
    "from motor import Motor\n",
    "import time\n",
    "from simple_pid import PID\n",
    "from utils.utils import *\n"
   ]
  },
  {
   "cell_type": "code",
   "execution_count": null,
   "metadata": {},
   "outputs": [],
   "source": []
  },
  {
   "cell_type": "code",
   "execution_count": null,
   "metadata": {},
   "outputs": [],
   "source": []
  },
  {
   "cell_type": "code",
   "execution_count": null,
   "metadata": {},
   "outputs": [],
   "source": []
  },
  {
   "cell_type": "code",
   "execution_count": null,
   "metadata": {},
   "outputs": [],
   "source": []
  },
  {
   "cell_type": "code",
   "execution_count": null,
   "metadata": {},
   "outputs": [],
   "source": []
  },
  {
   "cell_type": "code",
   "execution_count": null,
   "metadata": {},
   "outputs": [],
   "source": []
  },
  {
   "cell_type": "code",
   "execution_count": null,
   "metadata": {},
   "outputs": [],
   "source": []
  }
 ],
 "metadata": {
  "kernelspec": {
   "display_name": "Python 3 (ipykernel)",
   "language": "python",
   "name": "python3"
  },
  "language_info": {
   "codemirror_mode": {
    "name": "ipython",
    "version": 3
   },
   "file_extension": ".py",
   "mimetype": "text/x-python",
   "name": "python",
   "nbconvert_exporter": "python",
   "pygments_lexer": "ipython3",
   "version": "3.8.10"
  }
 },
 "nbformat": 4,
 "nbformat_minor": 4
}
