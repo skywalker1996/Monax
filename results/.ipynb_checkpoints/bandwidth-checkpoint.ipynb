{
 "cells": [
  {
   "cell_type": "code",
   "execution_count": 2,
   "metadata": {},
   "outputs": [],
   "source": [
    "import numpy as np\n",
    "import pandas as pd\n",
    "import matplotlib.pyplot as plt\n",
    "import seaborn as sns\n",
    "import os\n",
    "\n",
    "\n",
    "CC = \"monax\"\n",
    "\n",
    "def plot_throughput_bandwidth(CC):\n",
    "    base_dir = f'../record/local/latest'\n",
    "    # base_dir = '../record/local/2022_01_12_20_46_00'\n",
    "    file_list = os.listdir(base_dir)\n",
    "\n",
    "    file_list.sort()\n",
    "\n",
    "    flow = {}\n",
    "\n",
    "    data = {}\n",
    "\n",
    "    data[\"Time (s)\"] = []\n",
    "    data[\"Throughput (Mbps)\"] = []\n",
    "    data[\"Flow\"] = []\n",
    "\n",
    "    new_data = {}\n",
    "\n",
    "    NAME_MAPPING = {\n",
    "        \"MONAX\": \"Monax\",\n",
    "        \"VEGAS\": \"Vegas\",\n",
    "        \"CUBIC\": \"Cubic\",\n",
    "        \"PCC-ALLEGRO\": \"PCC Allegro\",\n",
    "        \"PCC-VIVACE\": \"PCC Vivace\",\n",
    "        \"BBR\": \"BBR\"\n",
    "    }\n",
    "\n",
    "    flow_count = 0\n",
    "\n",
    "    bandwidth_shift = 25\n",
    "    throughput_shift = 0\n",
    "\n",
    "    data_proportion = 0.2\n",
    "\n",
    "    for file in file_list:\n",
    "        if('csv' in file):\n",
    "            CC = file.split('_')[2].upper()\n",
    "            df = pd.read_csv(os.path.join(base_dir,file))\n",
    "            flow_id = int(file.split('_')[1])\n",
    "            time = df['time'].values\n",
    "            delivery_rate = df['delivery_rate']\n",
    "            sending_rate = df['server_sending_rate']\n",
    "            bandwidth = df['bandwidth']\n",
    "            # sending_rate_ewma = df[\"sending_rate_ewma\"]\n",
    "            print(f\"{len(time)}\")\n",
    "            print(f\"{len(bandwidth)}\")\n",
    "\n",
    "            if(flow_id == 0):\n",
    "\n",
    "                time = time[0:int(data_proportion*len(time))]\n",
    "                delivery_rate = delivery_rate[throughput_shift:int(data_proportion*len(delivery_rate))+throughput_shift]\n",
    "                sending_rate = sending_rate[throughput_shift:int(data_proportion*len(sending_rate))+throughput_shift]\n",
    "                bandwidth = bandwidth[bandwidth_shift:int(data_proportion*len(bandwidth))+bandwidth_shift]\n",
    "                # sending_rate_ewma = sending_rate_ewma[throughput_shift:int(data_proportion*len(sending_rate_ewma))+throughput_shift]\n",
    "                min_time = min(time)\n",
    "                time = time - min_time\n",
    "            else:\n",
    "                time = time - min_time\n",
    "            # time = np.append(time, time[-1]+1)\n",
    "            # delivery_rate = np.append(delivery_rate, 0)\n",
    "\n",
    "            new_data[\"Flow \"+str(flow_id+1)] = {}\n",
    "            new_data[\"Flow \"+str(flow_id+1)][\"time\"] = list(time)\n",
    "            new_data[\"Flow \"+str(flow_id+1)][\"throughput\"] = list(delivery_rate)\n",
    "            new_data[\"Flow \"+str(flow_id+1)][\"bandwidth\"] = list(bandwidth)\n",
    "            new_data[\"Flow \"+str(flow_id+1)][\"sending_rate\"] = list(sending_rate)\n",
    "            # new_data[\"Flow \"+str(flow_id+1)][\"sending_rate_ewma\"] = list(sending_rate_ewma)    \n",
    "            # flow[flow_id] = delivery_rate\n",
    "            \n",
    "            \n",
    "            COLORS = ['orange', 'orchid', 'purple', 'blue', 'darksalmon']\n",
    "            MARKER_SIZE = 11\n",
    "            LINE_WIDTH = 3.5\n",
    "\n",
    "\n",
    "            fig, axes = plt.subplots(1, 1, figsize=(30, 10))\n",
    "\n",
    "            x = list(range(1,17))\n",
    "\n",
    "\n",
    "            # 折线图\n",
    "            axes.plot(new_data[\"Flow 1\"][\"time\"], new_data[\"Flow 1\"][\"throughput\"], color='orange', label=\"Throughput\",  linewidth=LINE_WIDTH)\n",
    "            axes.plot(new_data[\"Flow 1\"][\"time\"], new_data[\"Flow 1\"][\"bandwidth\"], color='blue', label=\"Bandwidth\", linewidth=LINE_WIDTH, linestyle='-')\n",
    "            # \n",
    "            plt.legend(loc=1, fontsize=30, bbox_to_anchor = (1,1), title_fontsize=25, columnspacing=1.2, handletextpad=0.5)\n",
    "\n",
    "            axes.grid(which='minor', c='lightgrey')\n",
    "\n",
    "            #设置坐标标签标注和字体大小\n",
    "            plt.xlabel(\"Time (s)\",fontsize=30)\n",
    "            plt.ylabel(\"Throughput (Mbps)\",fontsize=30)\n",
    "\n",
    "            #设置坐标刻度字体大小\n",
    "            plt.xticks(fontsize=30)\n",
    "            plt.yticks(fontsize=30)\n",
    "\n",
    "            plt.title(f\"{CC}\")\n",
    "            plt.savefig(f\"./{CC}_bandwidth.png\",bbox_inches = 'tight')\n",
    "            plt.show()\n",
    "        "
   ]
  },
  {
   "cell_type": "code",
   "execution_count": 3,
   "metadata": {},
   "outputs": [
    {
     "ename": "FileNotFoundError",
     "evalue": "[Errno 2] No such file or directory: '../record/local/CUBIC_bandwidth_01'",
     "output_type": "error",
     "traceback": [
      "\u001b[0;31m---------------------------------------------------------------------------\u001b[0m",
      "\u001b[0;31mFileNotFoundError\u001b[0m                         Traceback (most recent call last)",
      "\u001b[0;32m/tmp/ipykernel_63226/1260526080.py\u001b[0m in \u001b[0;36m<module>\u001b[0;34m\u001b[0m\n\u001b[0;32m----> 1\u001b[0;31m \u001b[0mplot_throughput_bandwidth\u001b[0m\u001b[0;34m(\u001b[0m\u001b[0;34m\"CUBIC\"\u001b[0m\u001b[0;34m)\u001b[0m\u001b[0;34m\u001b[0m\u001b[0;34m\u001b[0m\u001b[0m\n\u001b[0m\u001b[1;32m      2\u001b[0m \u001b[0mplot_throughput_bandwidth\u001b[0m\u001b[0;34m(\u001b[0m\u001b[0;34m\"MONAX\"\u001b[0m\u001b[0;34m)\u001b[0m\u001b[0;34m\u001b[0m\u001b[0;34m\u001b[0m\u001b[0m\n\u001b[1;32m      3\u001b[0m \u001b[0;31m# plot_throughput_bandwidth(\"pcc-vivace\")\u001b[0m\u001b[0;34m\u001b[0m\u001b[0;34m\u001b[0m\u001b[0;34m\u001b[0m\u001b[0m\n\u001b[1;32m      4\u001b[0m \u001b[0;31m# plot_throughput_bandwidth(\"monax\")\u001b[0m\u001b[0;34m\u001b[0m\u001b[0;34m\u001b[0m\u001b[0;34m\u001b[0m\u001b[0m\n",
      "\u001b[0;32m/tmp/ipykernel_63226/110878026.py\u001b[0m in \u001b[0;36mplot_throughput_bandwidth\u001b[0;34m(CC)\u001b[0m\n\u001b[1;32m     11\u001b[0m     \u001b[0mbase_dir\u001b[0m \u001b[0;34m=\u001b[0m \u001b[0;34mf'../record/local/{CC}_bandwidth_01'\u001b[0m\u001b[0;34m\u001b[0m\u001b[0;34m\u001b[0m\u001b[0m\n\u001b[1;32m     12\u001b[0m     \u001b[0;31m# base_dir = '../record/local/2022_01_12_20_46_00'\u001b[0m\u001b[0;34m\u001b[0m\u001b[0;34m\u001b[0m\u001b[0;34m\u001b[0m\u001b[0m\n\u001b[0;32m---> 13\u001b[0;31m     \u001b[0mfile_list\u001b[0m \u001b[0;34m=\u001b[0m \u001b[0mos\u001b[0m\u001b[0;34m.\u001b[0m\u001b[0mlistdir\u001b[0m\u001b[0;34m(\u001b[0m\u001b[0mbase_dir\u001b[0m\u001b[0;34m)\u001b[0m\u001b[0;34m\u001b[0m\u001b[0;34m\u001b[0m\u001b[0m\n\u001b[0m\u001b[1;32m     14\u001b[0m \u001b[0;34m\u001b[0m\u001b[0m\n\u001b[1;32m     15\u001b[0m     \u001b[0mfile_list\u001b[0m\u001b[0;34m.\u001b[0m\u001b[0msort\u001b[0m\u001b[0;34m(\u001b[0m\u001b[0;34m)\u001b[0m\u001b[0;34m\u001b[0m\u001b[0;34m\u001b[0m\u001b[0m\n",
      "\u001b[0;31mFileNotFoundError\u001b[0m: [Errno 2] No such file or directory: '../record/local/CUBIC_bandwidth_01'"
     ]
    }
   ],
   "source": [
    "plot_throughput_bandwidth(\"CUBIC\")\n",
    "plot_throughput_bandwidth(\"MONAX\")\n",
    "# plot_throughput_bandwidth(\"pcc-vivace\")\n",
    "# plot_throughput_bandwidth(\"monax\")"
   ]
  },
  {
   "cell_type": "code",
   "execution_count": 67,
   "metadata": {},
   "outputs": [
    {
     "data": {
      "text/plain": [
       "1641805107.6177197"
      ]
     },
     "execution_count": 67,
     "metadata": {},
     "output_type": "execute_result"
    }
   ],
   "source": [
    "import time \n",
    "time.time()"
   ]
  },
  {
   "cell_type": "code",
   "execution_count": null,
   "metadata": {},
   "outputs": [],
   "source": []
  },
  {
   "cell_type": "code",
   "execution_count": null,
   "metadata": {},
   "outputs": [],
   "source": []
  },
  {
   "cell_type": "code",
   "execution_count": null,
   "metadata": {},
   "outputs": [],
   "source": []
  }
 ],
 "metadata": {
  "kernelspec": {
   "display_name": "Python 3 (ipykernel)",
   "language": "python",
   "name": "python3"
  },
  "language_info": {
   "codemirror_mode": {
    "name": "ipython",
    "version": 3
   },
   "file_extension": ".py",
   "mimetype": "text/x-python",
   "name": "python",
   "nbconvert_exporter": "python",
   "pygments_lexer": "ipython3",
   "version": "3.8.10"
  }
 },
 "nbformat": 4,
 "nbformat_minor": 4
}
