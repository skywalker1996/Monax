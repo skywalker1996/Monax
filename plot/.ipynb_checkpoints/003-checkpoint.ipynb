{
 "cells": [
  {
   "cell_type": "code",
   "execution_count": 1,
   "id": "638431e5-84e5-42ce-9a8a-896c6c7a026c",
   "metadata": {},
   "outputs": [
    {
     "ename": "NameError",
     "evalue": "name 'calculate_ratio' is not defined",
     "output_type": "error",
     "traceback": [
      "\u001b[0;31m---------------------------------------------------------------------------\u001b[0m",
      "\u001b[0;31mNameError\u001b[0m                                 Traceback (most recent call last)",
      "\u001b[0;32m/tmp/ipykernel_241774/3725976689.py\u001b[0m in \u001b[0;36m<module>\u001b[0;34m\u001b[0m\n\u001b[0;32m----> 1\u001b[0;31m \u001b[0mdata_ratios\u001b[0m\u001b[0;34m[\u001b[0m\u001b[0;34m\"Cubic\"\u001b[0m\u001b[0;34m]\u001b[0m \u001b[0;34m=\u001b[0m \u001b[0mcalculate_ratio\u001b[0m\u001b[0;34m(\u001b[0m\u001b[0;34m\"cubic\"\u001b[0m\u001b[0;34m)\u001b[0m\u001b[0;34m\u001b[0m\u001b[0;34m\u001b[0m\u001b[0m\n\u001b[0m\u001b[1;32m      2\u001b[0m \u001b[0mdata_ratios\u001b[0m\u001b[0;34m[\u001b[0m\u001b[0;34m\"BBR\"\u001b[0m\u001b[0;34m]\u001b[0m \u001b[0;34m=\u001b[0m \u001b[0mcalculate_ratio\u001b[0m\u001b[0;34m(\u001b[0m\u001b[0;34m\"bbr\"\u001b[0m\u001b[0;34m)\u001b[0m\u001b[0;34m\u001b[0m\u001b[0;34m\u001b[0m\u001b[0m\n\u001b[1;32m      3\u001b[0m \u001b[0mdata_ratios\u001b[0m\u001b[0;34m[\u001b[0m\u001b[0;34m\"PCC Vivace\"\u001b[0m\u001b[0;34m]\u001b[0m \u001b[0;34m=\u001b[0m \u001b[0mcalculate_ratio\u001b[0m\u001b[0;34m(\u001b[0m\u001b[0;34m\"pcc-vivace\"\u001b[0m\u001b[0;34m)\u001b[0m\u001b[0;34m\u001b[0m\u001b[0;34m\u001b[0m\u001b[0m\n\u001b[1;32m      4\u001b[0m \u001b[0mdata_ratios\u001b[0m\u001b[0;34m[\u001b[0m\u001b[0;34m\"PCC Allegro\"\u001b[0m\u001b[0;34m]\u001b[0m \u001b[0;34m=\u001b[0m \u001b[0mcalculate_ratio\u001b[0m\u001b[0;34m(\u001b[0m\u001b[0;34m\"pcc-allegro\"\u001b[0m\u001b[0;34m)\u001b[0m\u001b[0;34m\u001b[0m\u001b[0;34m\u001b[0m\u001b[0m\n\u001b[1;32m      5\u001b[0m \u001b[0;34m\u001b[0m\u001b[0m\n",
      "\u001b[0;31mNameError\u001b[0m: name 'calculate_ratio' is not defined"
     ]
    }
   ],
   "source": [
    "data_ratios[\"Cubic\"] = [0.708, 0.701, 0.881, 0.935, 0.951, 0.992, 1.211, 1.013, 0.998, 1.025, 1.107, 1.028, 1.113, 1.093, 1.057, 1.149]\n",
    "data_ratios[\"BBR\"] = [0.756, 0.877, 1.393, 1.815, 2.279, 2.438, 2.701, 2.862, 3.247, 3.539, 3.813, 4.013, 4.248, 4.517, 4.744, 4.761]\n",
    "data_ratios[\"PCC Vivace\"] =  [4.992, 7.257, 0.914, 0.983, 0.963, 1.499, 1.07, 1.029, 1.16, 1.081, 1.31, 1.305, 1.264, 1.318, 1.256, 1.359]\n",
    "data_ratios[\"PCC Allegro\"] = [1.034, 0.996, 0.997, 1.053, 1.055, 1.09, 1.077, 1.104, 1.278, 1.096, 1.363, 1.085, 1.148, 1.217, 1.346, 1.261]\n",
    "\n",
    "print(data_ratios[\"BBR\"])\n",
    "\n",
    "def scale_process(value):         \n",
    "    if(value>0.5 and value<=1):       \n",
    "        return (value-0.5)/(1-0.5) \n",
    "    elif(value>1 and value<=1.5):      \n",
    "        return (value-1)/(1.5-1) + 1 \n",
    "    elif(value>1.5 and value<=2):       \n",
    "        return (value-1.5)/(2-1.5) + 2\n",
    "    elif(value>2):                      \n",
    "        return (value-2)/(10-2) + 3\n",
    "    \n",
    "    return None\n",
    "\n",
    "def scale_process_new(value):\n",
    "    return np.power((value-0.5), 0.25)\n",
    "\n",
    "for cc in data_ratios:\n",
    "    for i in range(len(data_ratios[cc])):\n",
    "#         data_ratios[cc][i] = (data_ratios[cc][i]-1)/9 + 1 if data_ratios[cc][i]>1 else data_ratios[cc][i]\n",
    "        data_ratios[cc][i] = scale_process(data_ratios[cc][i])\n",
    "    \n",
    "print(data_ratios[\"BBR\"])"
   ]
  },
  {
   "cell_type": "code",
   "execution_count": null,
   "id": "494d0e6c-51b9-4494-b6a9-3347bb6fae12",
   "metadata": {},
   "outputs": [],
   "source": []
  }
 ],
 "metadata": {
  "kernelspec": {
   "display_name": "Python 3 (ipykernel)",
   "language": "python",
   "name": "python3"
  },
  "language_info": {
   "codemirror_mode": {
    "name": "ipython",
    "version": 3
   },
   "file_extension": ".py",
   "mimetype": "text/x-python",
   "name": "python",
   "nbconvert_exporter": "python",
   "pygments_lexer": "ipython3",
   "version": "3.8.10"
  }
 },
 "nbformat": 4,
 "nbformat_minor": 5
}
